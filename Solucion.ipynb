{
 "cells": [
  {
   "cell_type": "code",
   "execution_count": 1,
   "metadata": {},
   "outputs": [],
   "source": [
    "#Lectura y Limpieza Datos\n",
    "def Datos():\n",
    "    Data = open('data.csv', 'r').readlines()\n",
    "    Data = [z.replace(\"\\n\", \"\") for z in Data]\n",
    "    Data = [z.split(\"\\t\") for z in Data]\n",
    "    return Data\n",
    "\n",
    "##Datos()"
   ]
  },
  {
   "cell_type": "code",
   "execution_count": 2,
   "metadata": {},
   "outputs": [
    {
     "data": {
      "text/plain": [
       "214"
      ]
     },
     "execution_count": 2,
     "metadata": {},
     "output_type": "execute_result"
    }
   ],
   "source": [
    "#Ejercicio 1\n",
    "Columna2 = [z[1] for z in Datos()[0:]]\n",
    "\n",
    "Suma = 0\n",
    "for i in Columna2:\n",
    "    Suma += int(i)\n",
    "Suma"
   ]
  },
  {
   "cell_type": "code",
   "execution_count": 4,
   "metadata": {},
   "outputs": [
    {
     "data": {
      "text/plain": [
       "[('A', 8), ('B', 7), ('C', 5), ('D', 6), ('E', 14)]"
      ]
     },
     "execution_count": 4,
     "metadata": {},
     "output_type": "execute_result"
    }
   ],
   "source": [
    "#Ejercicio 2\n",
    "Columna1 = [z[0] for z in Datos()[0:]]\n",
    "\n",
    "Grupos = list(set(Columna1))\n",
    "Lista_Conteo = []\n",
    "\n",
    "for i in Grupos:\n",
    "    Conteo = Columna1.count(i)\n",
    "    Lista_Conteo.append(Conteo)\n",
    "Lista_Tuplas = sorted(list(zip(Grupos, Lista_Conteo)))\n",
    "Lista_Tuplas"
   ]
  },
  {
   "cell_type": "code",
   "execution_count": 5,
   "metadata": {},
   "outputs": [
    {
     "data": {
      "text/plain": [
       "[('A', 8), ('B', 7), ('C', 5), ('D', 6), ('E', 14)]"
      ]
     },
     "execution_count": 5,
     "metadata": {},
     "output_type": "execute_result"
    }
   ],
   "source": [
    "#Otra Forma Ejercicio 2 - Con Libreria collections\n",
    "Column1 = [z[0] for z in Datos()[0:]]\n",
    "\n",
    "from collections import Counter\n",
    "Lista_Conteo = sorted(list(Counter(Column1).items()))\n",
    "Lista_Conteo"
   ]
  },
  {
   "cell_type": "code",
   "execution_count": null,
   "metadata": {},
   "outputs": [],
   "source": [
    "#Ejercicio 3\n"
   ]
  }
 ],
 "metadata": {
  "kernelspec": {
   "display_name": "Python 3.9.13 64-bit ('Anaconda3')",
   "language": "python",
   "name": "python3"
  },
  "language_info": {
   "codemirror_mode": {
    "name": "ipython",
    "version": 3
   },
   "file_extension": ".py",
   "mimetype": "text/x-python",
   "name": "python",
   "nbconvert_exporter": "python",
   "pygments_lexer": "ipython3",
   "version": "3.9.13"
  },
  "orig_nbformat": 4,
  "vscode": {
   "interpreter": {
    "hash": "ad2bdc8ecc057115af97d19610ffacc2b4e99fae6737bb82f5d7fb13d2f2c186"
   }
  }
 },
 "nbformat": 4,
 "nbformat_minor": 2
}
